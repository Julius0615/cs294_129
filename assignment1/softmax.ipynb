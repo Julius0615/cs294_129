{
 "cells": [
  {
   "cell_type": "markdown",
   "metadata": {},
   "source": [
    "# Softmax exercise\n",
    "\n",
    "*Complete and hand in this completed worksheet (including its outputs and any supporting code outside of the worksheet) with your assignment submission. For more details see the [assignments page](https://bcourses.berkeley.edu/courses/1453965/assignments/7738616) on the course website.*\n",
    "\n",
    "This exercise is analogous to the SVM exercise. You will:\n",
    "\n",
    "- implement a fully-vectorized **loss function** for the Softmax classifier\n",
    "- implement the fully-vectorized expression for its **analytic gradient**\n",
    "- **check your implementation** with numerical gradient\n",
    "- use a validation set to **tune the learning rate and regularization** strength\n",
    "- **optimize** the loss function with **SGD**\n",
    "- **visualize** the final learned weights\n"
   ]
  },
  {
   "cell_type": "code",
   "execution_count": 1,
   "metadata": {
    "collapsed": false
   },
   "outputs": [
    {
     "name": "stderr",
     "output_type": "stream",
     "text": [
      "/home/young/anaconda2/lib/python2.7/site-packages/matplotlib/font_manager.py:273: UserWarning: Matplotlib is building the font cache using fc-list. This may take a moment.\n",
      "  warnings.warn('Matplotlib is building the font cache using fc-list. This may take a moment.')\n"
     ]
    }
   ],
   "source": [
    "import random\n",
    "import numpy as np\n",
    "from cs294_129.data_utils import load_CIFAR10\n",
    "import matplotlib.pyplot as plt\n",
    "%matplotlib inline\n",
    "plt.rcParams['figure.figsize'] = (10.0, 8.0) # set default size of plots\n",
    "plt.rcParams['image.interpolation'] = 'nearest'\n",
    "plt.rcParams['image.cmap'] = 'gray'\n",
    "\n",
    "# for auto-reloading extenrnal modules\n",
    "# see http://stackoverflow.com/questions/1907993/autoreload-of-modules-in-ipython\n",
    "%load_ext autoreload\n",
    "%autoreload 2"
   ]
  },
  {
   "cell_type": "code",
   "execution_count": 2,
   "metadata": {
    "collapsed": false
   },
   "outputs": [
    {
     "name": "stdout",
     "output_type": "stream",
     "text": [
      "Train data shape:  (49000, 3073)\n",
      "Train labels shape:  (49000,)\n",
      "Validation data shape:  (1000, 3073)\n",
      "Validation labels shape:  (1000,)\n",
      "Test data shape:  (1000, 3073)\n",
      "Test labels shape:  (1000,)\n",
      "dev data shape:  (500, 3073)\n",
      "dev labels shape:  (500,)\n"
     ]
    }
   ],
   "source": [
    "def get_CIFAR10_data(num_training=49000, num_validation=1000, num_test=1000, num_dev=500):\n",
    "  \"\"\"\n",
    "  Load the CIFAR-10 dataset from disk and perform preprocessing to prepare\n",
    "  it for the linear classifier. These are the same steps as we used for the\n",
    "  SVM, but condensed to a single function.  \n",
    "  \"\"\"\n",
    "  # Load the raw CIFAR-10 data\n",
    "  cifar10_dir = 'cs294_129/datasets/cifar-10-batches-py'\n",
    "  X_train, y_train, X_test, y_test = load_CIFAR10(cifar10_dir)\n",
    "  \n",
    "  # subsample the data\n",
    "  mask = range(num_training, num_training + num_validation)\n",
    "  X_val = X_train[mask]\n",
    "  y_val = y_train[mask]\n",
    "  mask = range(num_training)\n",
    "  X_train = X_train[mask]\n",
    "  y_train = y_train[mask]\n",
    "  mask = range(num_test)\n",
    "  X_test = X_test[mask]\n",
    "  y_test = y_test[mask]\n",
    "  mask = np.random.choice(num_training, num_dev, replace=False)\n",
    "  X_dev = X_train[mask]\n",
    "  y_dev = y_train[mask]\n",
    "  \n",
    "  # Preprocessing: reshape the image data into rows\n",
    "  X_train = np.reshape(X_train, (X_train.shape[0], -1))\n",
    "  X_val = np.reshape(X_val, (X_val.shape[0], -1))\n",
    "  X_test = np.reshape(X_test, (X_test.shape[0], -1))\n",
    "  X_dev = np.reshape(X_dev, (X_dev.shape[0], -1))\n",
    "  \n",
    "  # Normalize the data: subtract the mean image\n",
    "  mean_image = np.mean(X_train, axis = 0)\n",
    "  X_train -= mean_image\n",
    "  X_val -= mean_image\n",
    "  X_test -= mean_image\n",
    "  X_dev -= mean_image\n",
    "  \n",
    "  # add bias dimension and transform into columns\n",
    "  X_train = np.hstack([X_train, np.ones((X_train.shape[0], 1))])\n",
    "  X_val = np.hstack([X_val, np.ones((X_val.shape[0], 1))])\n",
    "  X_test = np.hstack([X_test, np.ones((X_test.shape[0], 1))])\n",
    "  X_dev = np.hstack([X_dev, np.ones((X_dev.shape[0], 1))])\n",
    "  \n",
    "  return X_train, y_train, X_val, y_val, X_test, y_test, X_dev, y_dev\n",
    "\n",
    "\n",
    "# Invoke the above function to get our data.\n",
    "X_train, y_train, X_val, y_val, X_test, y_test, X_dev, y_dev = get_CIFAR10_data()\n",
    "print 'Train data shape: ', X_train.shape\n",
    "print 'Train labels shape: ', y_train.shape\n",
    "print 'Validation data shape: ', X_val.shape\n",
    "print 'Validation labels shape: ', y_val.shape\n",
    "print 'Test data shape: ', X_test.shape\n",
    "print 'Test labels shape: ', y_test.shape\n",
    "print 'dev data shape: ', X_dev.shape\n",
    "print 'dev labels shape: ', y_dev.shape"
   ]
  },
  {
   "cell_type": "markdown",
   "metadata": {},
   "source": [
    "## Softmax Classifier\n",
    "\n",
    "Your code for this section will all be written inside **cs294_129/classifiers/softmax.py**. \n"
   ]
  },
  {
   "cell_type": "code",
   "execution_count": 3,
   "metadata": {
    "collapsed": false
   },
   "outputs": [
    {
     "name": "stdout",
     "output_type": "stream",
     "text": [
      "loss: 2.318055\n",
      "sanity check: 2.302585\n"
     ]
    }
   ],
   "source": [
    "# First implement the naive softmax loss function with nested loops.\n",
    "# Open the file cs294_129/classifiers/softmax.py and implement the\n",
    "# softmax_loss_naive function.\n",
    "\n",
    "from cs294_129.classifiers.softmax import softmax_loss_naive\n",
    "import time\n",
    "\n",
    "# Generate a random softmax weight matrix and use it to compute the loss.\n",
    "W = np.random.randn(3073, 10) * 0.0001\n",
    "loss, grad = softmax_loss_naive(W, X_dev, y_dev, 0.0)\n",
    "\n",
    "# As a rough sanity check, our loss should be something close to -log(0.1).\n",
    "print 'loss: %f' % loss\n",
    "print 'sanity check: %f' % (-np.log(0.1))"
   ]
  },
  {
   "cell_type": "markdown",
   "metadata": {},
   "source": [
    "## Inline Question 1:\n",
    "Why do we expect our loss to be close to -log(0.1)? Explain briefly.**\n",
    "\n",
    "**Your answer:** *Fill this in*\n",
    "\n",
    "When we initialize our weight matrix randomly, the prediction should be approximately uniform on all classes, hence giving us a 0.1 probabiliy on the right class.\n"
   ]
  },
  {
   "cell_type": "code",
   "execution_count": 4,
   "metadata": {
    "collapsed": false
   },
   "outputs": [
    {
     "name": "stdout",
     "output_type": "stream",
     "text": [
      "numerical: -4.060926 analytic: -4.060926, relative error: 9.412340e-09\n",
      "numerical: -2.229336 analytic: -2.229336, relative error: 1.936803e-08\n",
      "numerical: 2.067016 analytic: 2.067016, relative error: 2.161845e-08\n",
      "numerical: -2.066037 analytic: -2.066037, relative error: 1.019188e-08\n",
      "numerical: -3.697633 analytic: -3.697633, relative error: 1.015030e-08\n",
      "numerical: 2.640829 analytic: 2.640829, relative error: 3.676269e-09\n",
      "numerical: 1.842553 analytic: 1.842553, relative error: 3.123151e-09\n",
      "numerical: 0.811680 analytic: 0.811679, relative error: 1.243684e-07\n",
      "numerical: -0.648587 analytic: -0.648587, relative error: 2.108861e-08\n",
      "numerical: -0.340694 analytic: -0.340694, relative error: 9.060001e-08\n",
      "numerical: -1.289088 analytic: -1.289088, relative error: 2.249995e-08\n",
      "numerical: 1.445121 analytic: 1.445121, relative error: 5.485147e-09\n",
      "numerical: -1.333526 analytic: -1.333526, relative error: 5.038472e-08\n",
      "numerical: 1.996365 analytic: 1.996365, relative error: 1.554916e-09\n",
      "numerical: -2.207737 analytic: -2.207737, relative error: 1.740944e-08\n",
      "numerical: 0.362867 analytic: 0.362867, relative error: 1.580657e-07\n",
      "numerical: 2.022311 analytic: 2.022311, relative error: 2.937427e-09\n",
      "numerical: -2.727455 analytic: -2.727455, relative error: 5.705860e-09\n",
      "numerical: 0.305806 analytic: 0.305805, relative error: 2.585247e-07\n",
      "numerical: 3.388131 analytic: 3.388131, relative error: 1.024952e-08\n"
     ]
    }
   ],
   "source": [
    "# Complete the implementation of softmax_loss_naive and implement a (naive)\n",
    "# version of the gradient that uses nested loops.\n",
    "loss, grad = softmax_loss_naive(W, X_dev, y_dev, 0.0)\n",
    "\n",
    "# As we did for the SVM, use numeric gradient checking as a debugging tool.\n",
    "# The numeric gradient should be close to the analytic gradient.\n",
    "from cs294_129.gradient_check import grad_check_sparse\n",
    "f = lambda w: softmax_loss_naive(w, X_dev, y_dev, 0.0)[0]\n",
    "grad_numerical = grad_check_sparse(f, W, grad, 10)\n",
    "\n",
    "# similar to SVM case, do another gradient check with regularization\n",
    "loss, grad = softmax_loss_naive(W, X_dev, y_dev, 1e2)\n",
    "f = lambda w: softmax_loss_naive(w, X_dev, y_dev, 1e2)[0]\n",
    "grad_numerical = grad_check_sparse(f, W, grad, 10)"
   ]
  },
  {
   "cell_type": "code",
   "execution_count": 5,
   "metadata": {
    "collapsed": false
   },
   "outputs": [
    {
     "name": "stdout",
     "output_type": "stream",
     "text": [
      "naive loss: 2.318055e+00 computed in 0.049264s\n",
      "vectorized loss: 2.318055e+00 computed in 0.004678s\n",
      "Loss difference: 0.000000\n",
      "Gradient difference: 0.000000\n"
     ]
    }
   ],
   "source": [
    "# Now that we have a naive implementation of the softmax loss function and its gradient,\n",
    "# implement a vectorized version in softmax_loss_vectorized.\n",
    "# The two versions should compute the same results, but the vectorized version should be\n",
    "# much faster.\n",
    "tic = time.time()\n",
    "loss_naive, grad_naive = softmax_loss_naive(W, X_dev, y_dev, 0.00001)\n",
    "toc = time.time()\n",
    "print 'naive loss: %e computed in %fs' % (loss_naive, toc - tic)\n",
    "\n",
    "from cs294_129.classifiers.softmax import softmax_loss_vectorized\n",
    "tic = time.time()\n",
    "loss_vectorized, grad_vectorized = softmax_loss_vectorized(W, X_dev, y_dev, 0.00001)\n",
    "toc = time.time()\n",
    "print 'vectorized loss: %e computed in %fs' % (loss_vectorized, toc - tic)\n",
    "\n",
    "# As we did for the SVM, we use the Frobenius norm to compare the two versions\n",
    "# of the gradient.\n",
    "grad_difference = np.linalg.norm(grad_naive - grad_vectorized, ord='fro')\n",
    "print 'Loss difference: %f' % np.abs(loss_naive - loss_vectorized)\n",
    "print 'Gradient difference: %f' % grad_difference"
   ]
  },
  {
   "cell_type": "code",
   "execution_count": 6,
   "metadata": {
    "collapsed": false
   },
   "outputs": [
    {
     "name": "stderr",
     "output_type": "stream",
     "text": [
      "cs294_129/classifiers/softmax.py:68: RuntimeWarning: overflow encountered in exp\n",
      "  prob = np.exp(np.dot(X, W)) / np.sum(np.exp(np.dot(X, W)), axis=1).reshape(-1, 1)\n",
      "cs294_129/classifiers/softmax.py:68: RuntimeWarning: invalid value encountered in divide\n",
      "  prob = np.exp(np.dot(X, W)) / np.sum(np.exp(np.dot(X, W)), axis=1).reshape(-1, 1)\n",
      "cs294_129/classifiers/softmax.py:69: RuntimeWarning: divide by zero encountered in log\n",
      "  loss = -np.mean(np.log(prob[range(X.shape[0]), y]))\n"
     ]
    },
    {
     "name": "stdout",
     "output_type": "stream",
     "text": [
      "lr 1.000000e-07 reg 1.000000e-05 train accuracy: 0.253633 val accuracy: 0.266000\n",
      "lr 1.000000e-07 reg 3.359818e-05 train accuracy: 0.243204 val accuracy: 0.268000\n",
      "lr 1.000000e-07 reg 1.128838e-04 train accuracy: 0.252612 val accuracy: 0.271000\n",
      "lr 1.000000e-07 reg 3.792690e-04 train accuracy: 0.249020 val accuracy: 0.257000\n",
      "lr 1.000000e-07 reg 1.274275e-03 train accuracy: 0.243163 val accuracy: 0.259000\n",
      "lr 1.000000e-07 reg 4.281332e-03 train accuracy: 0.251673 val accuracy: 0.259000\n",
      "lr 1.000000e-07 reg 1.438450e-02 train accuracy: 0.244571 val accuracy: 0.243000\n",
      "lr 1.000000e-07 reg 4.832930e-02 train accuracy: 0.247408 val accuracy: 0.263000\n",
      "lr 1.000000e-07 reg 1.623777e-01 train accuracy: 0.246061 val accuracy: 0.250000\n",
      "lr 1.000000e-07 reg 5.455595e-01 train accuracy: 0.253327 val accuracy: 0.271000\n",
      "lr 1.000000e-07 reg 1.832981e+00 train accuracy: 0.246714 val accuracy: 0.257000\n",
      "lr 1.000000e-07 reg 6.158482e+00 train accuracy: 0.240490 val accuracy: 0.242000\n",
      "lr 1.000000e-07 reg 2.069138e+01 train accuracy: 0.239612 val accuracy: 0.236000\n",
      "lr 1.000000e-07 reg 6.951928e+01 train accuracy: 0.248041 val accuracy: 0.234000\n",
      "lr 1.000000e-07 reg 2.335721e+02 train accuracy: 0.256796 val accuracy: 0.259000\n",
      "lr 1.000000e-07 reg 7.847600e+02 train accuracy: 0.257673 val accuracy: 0.274000\n",
      "lr 1.000000e-07 reg 2.636651e+03 train accuracy: 0.270327 val accuracy: 0.274000\n",
      "lr 1.000000e-07 reg 8.858668e+03 train accuracy: 0.320959 val accuracy: 0.325000\n",
      "lr 1.000000e-07 reg 2.976351e+04 train accuracy: 0.348041 val accuracy: 0.362000\n",
      "lr 1.000000e-07 reg 1.000000e+05 train accuracy: 0.312755 val accuracy: 0.325000\n",
      "lr 2.782559e-07 reg 1.000000e-05 train accuracy: 0.293429 val accuracy: 0.289000\n",
      "lr 2.782559e-07 reg 3.359818e-05 train accuracy: 0.294408 val accuracy: 0.307000\n",
      "lr 2.782559e-07 reg 1.128838e-04 train accuracy: 0.289102 val accuracy: 0.291000\n",
      "lr 2.782559e-07 reg 3.792690e-04 train accuracy: 0.298184 val accuracy: 0.283000\n",
      "lr 2.782559e-07 reg 1.274275e-03 train accuracy: 0.293571 val accuracy: 0.273000\n",
      "lr 2.782559e-07 reg 4.281332e-03 train accuracy: 0.287878 val accuracy: 0.289000\n",
      "lr 2.782559e-07 reg 1.438450e-02 train accuracy: 0.293816 val accuracy: 0.310000\n",
      "lr 2.782559e-07 reg 4.832930e-02 train accuracy: 0.298245 val accuracy: 0.303000\n",
      "lr 2.782559e-07 reg 1.623777e-01 train accuracy: 0.284653 val accuracy: 0.288000\n",
      "lr 2.782559e-07 reg 5.455595e-01 train accuracy: 0.292265 val accuracy: 0.305000\n",
      "lr 2.782559e-07 reg 1.832981e+00 train accuracy: 0.292184 val accuracy: 0.295000\n",
      "lr 2.782559e-07 reg 6.158482e+00 train accuracy: 0.287122 val accuracy: 0.295000\n",
      "lr 2.782559e-07 reg 2.069138e+01 train accuracy: 0.296265 val accuracy: 0.303000\n",
      "lr 2.782559e-07 reg 6.951928e+01 train accuracy: 0.290755 val accuracy: 0.282000\n",
      "lr 2.782559e-07 reg 2.335721e+02 train accuracy: 0.297367 val accuracy: 0.306000\n",
      "lr 2.782559e-07 reg 7.847600e+02 train accuracy: 0.315429 val accuracy: 0.329000\n",
      "lr 2.782559e-07 reg 2.636651e+03 train accuracy: 0.352163 val accuracy: 0.360000\n",
      "lr 2.782559e-07 reg 8.858668e+03 train accuracy: 0.376857 val accuracy: 0.394000\n",
      "lr 2.782559e-07 reg 2.976351e+04 train accuracy: 0.347000 val accuracy: 0.358000\n",
      "lr 2.782559e-07 reg 1.000000e+05 train accuracy: 0.296224 val accuracy: 0.315000\n",
      "lr 7.742637e-07 reg 1.000000e-05 train accuracy: 0.335878 val accuracy: 0.345000\n",
      "lr 7.742637e-07 reg 3.359818e-05 train accuracy: 0.339082 val accuracy: 0.346000\n",
      "lr 7.742637e-07 reg 1.128838e-04 train accuracy: 0.337286 val accuracy: 0.353000\n",
      "lr 7.742637e-07 reg 3.792690e-04 train accuracy: 0.337837 val accuracy: 0.321000\n",
      "lr 7.742637e-07 reg 1.274275e-03 train accuracy: 0.336571 val accuracy: 0.345000\n",
      "lr 7.742637e-07 reg 4.281332e-03 train accuracy: 0.339102 val accuracy: 0.311000\n",
      "lr 7.742637e-07 reg 1.438450e-02 train accuracy: 0.335653 val accuracy: 0.336000\n",
      "lr 7.742637e-07 reg 4.832930e-02 train accuracy: 0.330939 val accuracy: 0.348000\n",
      "lr 7.742637e-07 reg 1.623777e-01 train accuracy: 0.331755 val accuracy: 0.328000\n",
      "lr 7.742637e-07 reg 5.455595e-01 train accuracy: 0.337306 val accuracy: 0.339000\n",
      "lr 7.742637e-07 reg 1.832981e+00 train accuracy: 0.336816 val accuracy: 0.339000\n",
      "lr 7.742637e-07 reg 6.158482e+00 train accuracy: 0.340510 val accuracy: 0.330000\n",
      "lr 7.742637e-07 reg 2.069138e+01 train accuracy: 0.338163 val accuracy: 0.322000\n",
      "lr 7.742637e-07 reg 6.951928e+01 train accuracy: 0.342694 val accuracy: 0.319000\n",
      "lr 7.742637e-07 reg 2.335721e+02 train accuracy: 0.355898 val accuracy: 0.353000\n",
      "lr 7.742637e-07 reg 7.847600e+02 train accuracy: 0.383653 val accuracy: 0.383000\n",
      "lr 7.742637e-07 reg 2.636651e+03 train accuracy: 0.395653 val accuracy: 0.398000\n",
      "lr 7.742637e-07 reg 8.858668e+03 train accuracy: 0.366122 val accuracy: 0.375000\n",
      "lr 7.742637e-07 reg 2.976351e+04 train accuracy: 0.332857 val accuracy: 0.350000\n",
      "lr 7.742637e-07 reg 1.000000e+05 train accuracy: 0.300612 val accuracy: 0.327000\n",
      "lr 2.154435e-06 reg 1.000000e-05 train accuracy: 0.374551 val accuracy: 0.363000\n",
      "lr 2.154435e-06 reg 3.359818e-05 train accuracy: 0.372388 val accuracy: 0.348000\n",
      "lr 2.154435e-06 reg 1.128838e-04 train accuracy: 0.374653 val accuracy: 0.377000\n",
      "lr 2.154435e-06 reg 3.792690e-04 train accuracy: 0.371878 val accuracy: 0.383000\n",
      "lr 2.154435e-06 reg 1.274275e-03 train accuracy: 0.376776 val accuracy: 0.355000\n",
      "lr 2.154435e-06 reg 4.281332e-03 train accuracy: 0.376204 val accuracy: 0.351000\n",
      "lr 2.154435e-06 reg 1.438450e-02 train accuracy: 0.378388 val accuracy: 0.354000\n",
      "lr 2.154435e-06 reg 4.832930e-02 train accuracy: 0.375184 val accuracy: 0.371000\n",
      "lr 2.154435e-06 reg 1.623777e-01 train accuracy: 0.372286 val accuracy: 0.358000\n",
      "lr 2.154435e-06 reg 5.455595e-01 train accuracy: 0.373061 val accuracy: 0.363000\n",
      "lr 2.154435e-06 reg 1.832981e+00 train accuracy: 0.376082 val accuracy: 0.354000\n",
      "lr 2.154435e-06 reg 6.158482e+00 train accuracy: 0.377959 val accuracy: 0.352000\n",
      "lr 2.154435e-06 reg 2.069138e+01 train accuracy: 0.384408 val accuracy: 0.354000\n",
      "lr 2.154435e-06 reg 6.951928e+01 train accuracy: 0.385020 val accuracy: 0.378000\n",
      "lr 2.154435e-06 reg 2.335721e+02 train accuracy: 0.403490 val accuracy: 0.400000\n",
      "lr 2.154435e-06 reg 7.847600e+02 train accuracy: 0.407857 val accuracy: 0.401000\n",
      "lr 2.154435e-06 reg 2.636651e+03 train accuracy: 0.378878 val accuracy: 0.387000\n",
      "lr 2.154435e-06 reg 8.858668e+03 train accuracy: 0.344265 val accuracy: 0.339000\n",
      "lr 2.154435e-06 reg 2.976351e+04 train accuracy: 0.304000 val accuracy: 0.313000\n",
      "lr 2.154435e-06 reg 1.000000e+05 train accuracy: 0.258918 val accuracy: 0.266000\n",
      "lr 5.994843e-06 reg 1.000000e-05 train accuracy: 0.387633 val accuracy: 0.365000\n",
      "lr 5.994843e-06 reg 3.359818e-05 train accuracy: 0.354633 val accuracy: 0.342000\n",
      "lr 5.994843e-06 reg 1.128838e-04 train accuracy: 0.361449 val accuracy: 0.328000\n",
      "lr 5.994843e-06 reg 3.792690e-04 train accuracy: 0.365061 val accuracy: 0.339000\n",
      "lr 5.994843e-06 reg 1.274275e-03 train accuracy: 0.366327 val accuracy: 0.346000\n",
      "lr 5.994843e-06 reg 4.281332e-03 train accuracy: 0.368061 val accuracy: 0.351000\n",
      "lr 5.994843e-06 reg 1.438450e-02 train accuracy: 0.387939 val accuracy: 0.357000\n",
      "lr 5.994843e-06 reg 4.832930e-02 train accuracy: 0.364735 val accuracy: 0.335000\n",
      "lr 5.994843e-06 reg 1.623777e-01 train accuracy: 0.390857 val accuracy: 0.351000\n",
      "lr 5.994843e-06 reg 5.455595e-01 train accuracy: 0.358265 val accuracy: 0.349000\n",
      "lr 5.994843e-06 reg 1.832981e+00 train accuracy: 0.365122 val accuracy: 0.346000\n",
      "lr 5.994843e-06 reg 6.158482e+00 train accuracy: 0.381286 val accuracy: 0.350000\n",
      "lr 5.994843e-06 reg 2.069138e+01 train accuracy: 0.395592 val accuracy: 0.381000\n",
      "lr 5.994843e-06 reg 6.951928e+01 train accuracy: 0.387327 val accuracy: 0.361000\n",
      "lr 5.994843e-06 reg 2.335721e+02 train accuracy: 0.382204 val accuracy: 0.384000\n",
      "lr 5.994843e-06 reg 7.847600e+02 train accuracy: 0.337551 val accuracy: 0.328000\n",
      "lr 5.994843e-06 reg 2.636651e+03 train accuracy: 0.303959 val accuracy: 0.296000\n",
      "lr 5.994843e-06 reg 8.858668e+03 train accuracy: 0.220224 val accuracy: 0.222000\n",
      "lr 5.994843e-06 reg 2.976351e+04 train accuracy: 0.182816 val accuracy: 0.190000\n",
      "lr 5.994843e-06 reg 1.000000e+05 train accuracy: 0.158878 val accuracy: 0.143000\n",
      "lr 1.668101e-05 reg 1.000000e-05 train accuracy: 0.232755 val accuracy: 0.197000\n",
      "lr 1.668101e-05 reg 3.359818e-05 train accuracy: 0.324571 val accuracy: 0.302000\n",
      "lr 1.668101e-05 reg 1.128838e-04 train accuracy: 0.290816 val accuracy: 0.275000\n",
      "lr 1.668101e-05 reg 3.792690e-04 train accuracy: 0.346143 val accuracy: 0.345000\n",
      "lr 1.668101e-05 reg 1.274275e-03 train accuracy: 0.340898 val accuracy: 0.329000\n",
      "lr 1.668101e-05 reg 4.281332e-03 train accuracy: 0.306816 val accuracy: 0.286000\n",
      "lr 1.668101e-05 reg 1.438450e-02 train accuracy: 0.338408 val accuracy: 0.340000\n",
      "lr 1.668101e-05 reg 4.832930e-02 train accuracy: 0.295878 val accuracy: 0.291000\n",
      "lr 1.668101e-05 reg 1.623777e-01 train accuracy: 0.324184 val accuracy: 0.315000\n",
      "lr 1.668101e-05 reg 5.455595e-01 train accuracy: 0.292735 val accuracy: 0.283000\n",
      "lr 1.668101e-05 reg 1.832981e+00 train accuracy: 0.311469 val accuracy: 0.295000\n",
      "lr 1.668101e-05 reg 6.158482e+00 train accuracy: 0.323857 val accuracy: 0.314000\n",
      "lr 1.668101e-05 reg 2.069138e+01 train accuracy: 0.315673 val accuracy: 0.303000\n",
      "lr 1.668101e-05 reg 6.951928e+01 train accuracy: 0.310918 val accuracy: 0.303000\n",
      "lr 1.668101e-05 reg 2.335721e+02 train accuracy: 0.300796 val accuracy: 0.293000\n",
      "lr 1.668101e-05 reg 7.847600e+02 train accuracy: 0.267082 val accuracy: 0.271000\n",
      "lr 1.668101e-05 reg 2.636651e+03 train accuracy: 0.153347 val accuracy: 0.159000\n",
      "lr 1.668101e-05 reg 8.858668e+03 train accuracy: 0.237306 val accuracy: 0.223000\n",
      "lr 1.668101e-05 reg 2.976351e+04 train accuracy: 0.170449 val accuracy: 0.169000\n",
      "lr 1.668101e-05 reg 1.000000e+05 train accuracy: 0.129408 val accuracy: 0.131000\n",
      "lr 4.641589e-05 reg 1.000000e-05 train accuracy: 0.281082 val accuracy: 0.259000\n",
      "lr 4.641589e-05 reg 3.359818e-05 train accuracy: 0.291490 val accuracy: 0.282000\n",
      "lr 4.641589e-05 reg 1.128838e-04 train accuracy: 0.325816 val accuracy: 0.302000\n",
      "lr 4.641589e-05 reg 3.792690e-04 train accuracy: 0.268857 val accuracy: 0.229000\n",
      "lr 4.641589e-05 reg 1.274275e-03 train accuracy: 0.254571 val accuracy: 0.265000\n",
      "lr 4.641589e-05 reg 4.281332e-03 train accuracy: 0.317592 val accuracy: 0.289000\n",
      "lr 4.641589e-05 reg 1.438450e-02 train accuracy: 0.321673 val accuracy: 0.322000\n",
      "lr 4.641589e-05 reg 4.832930e-02 train accuracy: 0.304755 val accuracy: 0.277000\n",
      "lr 4.641589e-05 reg 1.623777e-01 train accuracy: 0.335000 val accuracy: 0.326000\n",
      "lr 4.641589e-05 reg 5.455595e-01 train accuracy: 0.255776 val accuracy: 0.249000\n",
      "lr 4.641589e-05 reg 1.832981e+00 train accuracy: 0.253245 val accuracy: 0.253000\n",
      "lr 4.641589e-05 reg 6.158482e+00 train accuracy: 0.247571 val accuracy: 0.230000\n",
      "lr 4.641589e-05 reg 2.069138e+01 train accuracy: 0.285245 val accuracy: 0.262000\n",
      "lr 4.641589e-05 reg 6.951928e+01 train accuracy: 0.245694 val accuracy: 0.230000\n",
      "lr 4.641589e-05 reg 2.335721e+02 train accuracy: 0.193857 val accuracy: 0.187000\n",
      "lr 4.641589e-05 reg 7.847600e+02 train accuracy: 0.222633 val accuracy: 0.218000\n",
      "lr 4.641589e-05 reg 2.636651e+03 train accuracy: 0.193367 val accuracy: 0.203000\n",
      "lr 4.641589e-05 reg 8.858668e+03 train accuracy: 0.145898 val accuracy: 0.135000\n",
      "lr 4.641589e-05 reg 2.976351e+04 train accuracy: 0.097878 val accuracy: 0.090000\n",
      "lr 4.641589e-05 reg 1.000000e+05 train accuracy: 0.100265 val accuracy: 0.087000\n",
      "lr 1.291550e-04 reg 1.000000e-05 train accuracy: 0.303959 val accuracy: 0.299000\n",
      "lr 1.291550e-04 reg 3.359818e-05 train accuracy: 0.331694 val accuracy: 0.321000\n",
      "lr 1.291550e-04 reg 1.128838e-04 train accuracy: 0.313163 val accuracy: 0.323000\n",
      "lr 1.291550e-04 reg 3.792690e-04 train accuracy: 0.306510 val accuracy: 0.276000\n",
      "lr 1.291550e-04 reg 1.274275e-03 train accuracy: 0.320265 val accuracy: 0.291000\n",
      "lr 1.291550e-04 reg 4.281332e-03 train accuracy: 0.327694 val accuracy: 0.313000\n",
      "lr 1.291550e-04 reg 1.438450e-02 train accuracy: 0.228367 val accuracy: 0.219000\n",
      "lr 1.291550e-04 reg 4.832930e-02 train accuracy: 0.314163 val accuracy: 0.300000\n",
      "lr 1.291550e-04 reg 1.623777e-01 train accuracy: 0.297939 val accuracy: 0.306000\n",
      "lr 1.291550e-04 reg 5.455595e-01 train accuracy: 0.300878 val accuracy: 0.290000\n",
      "lr 1.291550e-04 reg 1.832981e+00 train accuracy: 0.337592 val accuracy: 0.310000\n",
      "lr 1.291550e-04 reg 6.158482e+00 train accuracy: 0.298102 val accuracy: 0.286000\n",
      "lr 1.291550e-04 reg 2.069138e+01 train accuracy: 0.302776 val accuracy: 0.290000\n",
      "lr 1.291550e-04 reg 6.951928e+01 train accuracy: 0.199551 val accuracy: 0.209000\n",
      "lr 1.291550e-04 reg 2.335721e+02 train accuracy: 0.189041 val accuracy: 0.198000\n",
      "lr 1.291550e-04 reg 7.847600e+02 train accuracy: 0.179449 val accuracy: 0.173000\n",
      "lr 1.291550e-04 reg 2.636651e+03 train accuracy: 0.135102 val accuracy: 0.144000\n",
      "lr 1.291550e-04 reg 8.858668e+03 train accuracy: 0.100265 val accuracy: 0.087000\n",
      "lr 1.291550e-04 reg 2.976351e+04 train accuracy: 0.100265 val accuracy: 0.087000\n",
      "lr 1.291550e-04 reg 1.000000e+05 train accuracy: 0.100265 val accuracy: 0.087000\n",
      "lr 3.593814e-04 reg 1.000000e-05 train accuracy: 0.100265 val accuracy: 0.087000\n",
      "lr 3.593814e-04 reg 3.359818e-05 train accuracy: 0.100265 val accuracy: 0.087000\n",
      "lr 3.593814e-04 reg 1.128838e-04 train accuracy: 0.100265 val accuracy: 0.087000\n",
      "lr 3.593814e-04 reg 3.792690e-04 train accuracy: 0.100265 val accuracy: 0.087000\n",
      "lr 3.593814e-04 reg 1.274275e-03 train accuracy: 0.100265 val accuracy: 0.087000\n",
      "lr 3.593814e-04 reg 4.281332e-03 train accuracy: 0.100265 val accuracy: 0.087000\n",
      "lr 3.593814e-04 reg 1.438450e-02 train accuracy: 0.100265 val accuracy: 0.087000\n",
      "lr 3.593814e-04 reg 4.832930e-02 train accuracy: 0.100265 val accuracy: 0.087000\n",
      "lr 3.593814e-04 reg 1.623777e-01 train accuracy: 0.100265 val accuracy: 0.087000\n",
      "lr 3.593814e-04 reg 5.455595e-01 train accuracy: 0.100265 val accuracy: 0.087000\n",
      "lr 3.593814e-04 reg 1.832981e+00 train accuracy: 0.100265 val accuracy: 0.087000\n",
      "lr 3.593814e-04 reg 6.158482e+00 train accuracy: 0.100265 val accuracy: 0.087000\n",
      "lr 3.593814e-04 reg 2.069138e+01 train accuracy: 0.100265 val accuracy: 0.087000\n",
      "lr 3.593814e-04 reg 6.951928e+01 train accuracy: 0.100265 val accuracy: 0.087000\n",
      "lr 3.593814e-04 reg 2.335721e+02 train accuracy: 0.100265 val accuracy: 0.087000\n",
      "lr 3.593814e-04 reg 7.847600e+02 train accuracy: 0.100265 val accuracy: 0.087000\n",
      "lr 3.593814e-04 reg 2.636651e+03 train accuracy: 0.100265 val accuracy: 0.087000\n",
      "lr 3.593814e-04 reg 8.858668e+03 train accuracy: 0.100265 val accuracy: 0.087000\n",
      "lr 3.593814e-04 reg 2.976351e+04 train accuracy: 0.100265 val accuracy: 0.087000\n",
      "lr 3.593814e-04 reg 1.000000e+05 train accuracy: 0.100265 val accuracy: 0.087000\n",
      "lr 1.000000e-03 reg 1.000000e-05 train accuracy: 0.100265 val accuracy: 0.087000\n",
      "lr 1.000000e-03 reg 3.359818e-05 train accuracy: 0.100265 val accuracy: 0.087000\n",
      "lr 1.000000e-03 reg 1.128838e-04 train accuracy: 0.100265 val accuracy: 0.087000\n",
      "lr 1.000000e-03 reg 3.792690e-04 train accuracy: 0.100265 val accuracy: 0.087000\n",
      "lr 1.000000e-03 reg 1.274275e-03 train accuracy: 0.100265 val accuracy: 0.087000\n",
      "lr 1.000000e-03 reg 4.281332e-03 train accuracy: 0.100265 val accuracy: 0.087000\n",
      "lr 1.000000e-03 reg 1.438450e-02 train accuracy: 0.100265 val accuracy: 0.087000\n",
      "lr 1.000000e-03 reg 4.832930e-02 train accuracy: 0.100265 val accuracy: 0.087000\n",
      "lr 1.000000e-03 reg 1.623777e-01 train accuracy: 0.100265 val accuracy: 0.087000\n",
      "lr 1.000000e-03 reg 5.455595e-01 train accuracy: 0.100265 val accuracy: 0.087000\n",
      "lr 1.000000e-03 reg 1.832981e+00 train accuracy: 0.100265 val accuracy: 0.087000\n",
      "lr 1.000000e-03 reg 6.158482e+00 train accuracy: 0.100265 val accuracy: 0.087000\n",
      "lr 1.000000e-03 reg 2.069138e+01 train accuracy: 0.100265 val accuracy: 0.087000\n",
      "lr 1.000000e-03 reg 6.951928e+01 train accuracy: 0.100265 val accuracy: 0.087000\n",
      "lr 1.000000e-03 reg 2.335721e+02 train accuracy: 0.100265 val accuracy: 0.087000\n",
      "lr 1.000000e-03 reg 7.847600e+02 train accuracy: 0.100265 val accuracy: 0.087000\n",
      "lr 1.000000e-03 reg 2.636651e+03 train accuracy: 0.100265 val accuracy: 0.087000\n",
      "lr 1.000000e-03 reg 8.858668e+03 train accuracy: 0.100265 val accuracy: 0.087000\n",
      "lr 1.000000e-03 reg 2.976351e+04 train accuracy: 0.100265 val accuracy: 0.087000\n",
      "lr 1.000000e-03 reg 1.000000e+05 train accuracy: 0.100265 val accuracy: 0.087000\n",
      "best validation accuracy achieved during cross-validation: 0.401000\n"
     ]
    }
   ],
   "source": [
    "# Use the validation set to tune hyperparameters (regularization strength and\n",
    "# learning rate). You should experiment with different ranges for the learning\n",
    "# rates and regularization strengths; if you are careful you should be able to\n",
    "# get a classification accuracy of over 0.35 on the validation set.\n",
    "from cs294_129.classifiers import Softmax\n",
    "results = {}\n",
    "best_val = -1\n",
    "best_softmax = None\n",
    "# learning_rates = [1e-7, 5e-7]\n",
    "# regularization_strengths = [5e4, 1e8]\n",
    "learning_rates = 10 ** np.linspace(-7, -3, 10)    #[1e-7, 5e-5]\n",
    "regularization_strengths = 10 ** np.linspace(-5, 5, 20)    #[1e-5, 1e5]\n",
    "\n",
    "################################################################################\n",
    "# TODO:                                                                        #\n",
    "# Use the validation set to set the learning rate and regularization strength. #\n",
    "# This should be identical to the validation that you did for the SVM; save    #\n",
    "# the best trained softmax classifer in best_softmax.                          #\n",
    "################################################################################\n",
    "for lr in learning_rates:\n",
    "    for reg in regularization_strengths:\n",
    "        model = Softmax()\n",
    "        model.train(X_train, y_train, lr, reg, 1500)\n",
    "        y_train_pred = model.predict(X_train)\n",
    "        train_accuracy = np.mean(y_train == y_train_pred)\n",
    "        y_val_pred = model.predict(X_val)\n",
    "        val_accuracy = np.mean(y_val == y_val_pred)\n",
    "        results[(lr, reg)] = (train_accuracy, val_accuracy)\n",
    "        if val_accuracy > best_val:\n",
    "            best_val = val_accuracy\n",
    "            best_softmax = model\n",
    "        \n",
    "################################################################################\n",
    "#                              END OF YOUR CODE                                #\n",
    "################################################################################\n",
    "    \n",
    "# Print out results.\n",
    "for lr, reg in sorted(results):\n",
    "    train_accuracy, val_accuracy = results[(lr, reg)]\n",
    "    print 'lr %e reg %e train accuracy: %f val accuracy: %f' % (\n",
    "                lr, reg, train_accuracy, val_accuracy)\n",
    "    \n",
    "print 'best validation accuracy achieved during cross-validation: %f' % best_val"
   ]
  },
  {
   "cell_type": "code",
   "execution_count": 7,
   "metadata": {
    "collapsed": false
   },
   "outputs": [
    {
     "name": "stdout",
     "output_type": "stream",
     "text": [
      "softmax on raw pixels final test set accuracy: 0.389000\n"
     ]
    }
   ],
   "source": [
    "# evaluate on test set\n",
    "# Evaluate the best softmax on test set\n",
    "y_test_pred = best_softmax.predict(X_test)\n",
    "test_accuracy = np.mean(y_test == y_test_pred)\n",
    "print 'softmax on raw pixels final test set accuracy: %f' % (test_accuracy, )"
   ]
  },
  {
   "cell_type": "code",
   "execution_count": 8,
   "metadata": {
    "collapsed": false
   },
   "outputs": [
    {
     "data": {
      "image/png": "[encoded data removed]",
      "text/plain": [
       "<matplotlib.figure.Figure at 0x7fa88e4a96d0>"
      ]
     },
     "metadata": {},
     "output_type": "display_data"
    }
   ],
   "source": [
    "# Visualize the learned weights for each class\n",
    "w = best_softmax.W[:-1,:] # strip out the bias\n",
    "w = w.reshape(32, 32, 3, 10)\n",
    "\n",
    "w_min, w_max = np.min(w), np.max(w)\n",
    "\n",
    "classes = ['plane', 'car', 'bird', 'cat', 'deer', 'dog', 'frog', 'horse', 'ship', 'truck']\n",
    "for i in xrange(10):\n",
    "  plt.subplot(2, 5, i + 1)\n",
    "  \n",
    "  # Rescale the weights to be between 0 and 255\n",
    "  wimg = 255.0 * (w[:, :, :, i].squeeze() - w_min) / (w_max - w_min)\n",
    "  plt.imshow(wimg.astype('uint8'))\n",
    "  plt.axis('off')\n",
    "  plt.title(classes[i])"
   ]
  },
  {
   "cell_type": "code",
   "execution_count": null,
   "metadata": {
    "collapsed": true
   },
   "outputs": [],
   "source": []
  }
 ],
 "metadata": {
  "kernelspec": {
   "display_name": "Python 2",
   "language": "python",
   "name": "python2"
  },
  "language_info": {
   "codemirror_mode": {
    "name": "ipython",
    "version": 2
   },
   "file_extension": ".py",
   "mimetype": "text/x-python",
   "name": "python",
   "nbconvert_exporter": "python",
   "pygments_lexer": "ipython2",
   "version": "2.7.11"
  }
 },
 "nbformat": 4,
 "nbformat_minor": 0
}
